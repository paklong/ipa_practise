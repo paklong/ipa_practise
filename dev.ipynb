{
 "cells": [
  {
   "cell_type": "code",
   "execution_count": 29,
   "source": [
    "import pandas as pd\r\n",
    "from datetime import datetime"
   ],
   "outputs": [],
   "metadata": {}
  },
  {
   "cell_type": "code",
   "execution_count": 30,
   "source": [
    "df = pd.read_excel('learning_log.xlsx',engine='openpyxl')"
   ],
   "outputs": [],
   "metadata": {}
  },
  {
   "cell_type": "code",
   "execution_count": 31,
   "source": [
    "df"
   ],
   "outputs": [
    {
     "output_type": "execute_result",
     "data": {
      "text/plain": [
       "         Date      Text   Phoneme  \\\n",
       "0  2021-08-05  reprised  rɪˈpriːz   \n",
       "1  2021-08-05  reprised  rɪˈpriːz   \n",
       "\n",
       "                                           Meaning Correct  \\\n",
       "0  Verb : repeat an earlier theme of a composition       Y   \n",
       "1  Verb : repeat an earlier theme of a composition       Y   \n",
       "\n",
       "                                                Link  \n",
       "0  https://dictionary.cambridge.org/dictionary/en...  \n",
       "1  https://dictionary.cambridge.org/dictionary/en...  "
      ],
      "text/html": [
       "<div>\n",
       "<style scoped>\n",
       "    .dataframe tbody tr th:only-of-type {\n",
       "        vertical-align: middle;\n",
       "    }\n",
       "\n",
       "    .dataframe tbody tr th {\n",
       "        vertical-align: top;\n",
       "    }\n",
       "\n",
       "    .dataframe thead th {\n",
       "        text-align: right;\n",
       "    }\n",
       "</style>\n",
       "<table border=\"1\" class=\"dataframe\">\n",
       "  <thead>\n",
       "    <tr style=\"text-align: right;\">\n",
       "      <th></th>\n",
       "      <th>Date</th>\n",
       "      <th>Text</th>\n",
       "      <th>Phoneme</th>\n",
       "      <th>Meaning</th>\n",
       "      <th>Correct</th>\n",
       "      <th>Link</th>\n",
       "    </tr>\n",
       "  </thead>\n",
       "  <tbody>\n",
       "    <tr>\n",
       "      <th>0</th>\n",
       "      <td>2021-08-05</td>\n",
       "      <td>reprised</td>\n",
       "      <td>rɪˈpriːz</td>\n",
       "      <td>Verb : repeat an earlier theme of a composition</td>\n",
       "      <td>Y</td>\n",
       "      <td>https://dictionary.cambridge.org/dictionary/en...</td>\n",
       "    </tr>\n",
       "    <tr>\n",
       "      <th>1</th>\n",
       "      <td>2021-08-05</td>\n",
       "      <td>reprised</td>\n",
       "      <td>rɪˈpriːz</td>\n",
       "      <td>Verb : repeat an earlier theme of a composition</td>\n",
       "      <td>Y</td>\n",
       "      <td>https://dictionary.cambridge.org/dictionary/en...</td>\n",
       "    </tr>\n",
       "  </tbody>\n",
       "</table>\n",
       "</div>"
      ]
     },
     "metadata": {},
     "execution_count": 31
    }
   ],
   "metadata": {}
  },
  {
   "cell_type": "code",
   "execution_count": 25,
   "source": [
    "di = {\r\n",
    "    'Date':[datetime.now().strftime('%Y-%m-%d')],\r\n",
    "    'Text':['reprised'],\r\n",
    "    'Phoneme':['rɪˈpriːz'],\r\n",
    "    'Meaning':['Verb : repeat an earlier theme of a composition'],\r\n",
    "    'Correct':['Y'],\r\n",
    "    'Link':['https://dictionary.cambridge.org/dictionary/english/reprise']\r\n",
    "}\r\n",
    "df2 = pd.DataFrame(di)"
   ],
   "outputs": [],
   "metadata": {}
  },
  {
   "cell_type": "code",
   "execution_count": 27,
   "source": [
    "df3 = df.append(df2)"
   ],
   "outputs": [],
   "metadata": {}
  },
  {
   "cell_type": "code",
   "execution_count": 28,
   "source": [
    "df3.to_excel('learning_log.xlsx', index=False, engine='openpyxl')"
   ],
   "outputs": [],
   "metadata": {}
  },
  {
   "cell_type": "code",
   "execution_count": 1,
   "source": [
    "import gspread\r\n",
    "from oauth2client.service_account import ServiceAccountCredentials"
   ],
   "outputs": [],
   "metadata": {}
  },
  {
   "cell_type": "code",
   "execution_count": 2,
   "source": [
    "scope = [\r\n",
    "    'https://www.googleapis.com/auth/drive',\r\n",
    "    'https://www.googleapis.com/auth/drive.file'\r\n",
    "    ]\r\n",
    "file_name = 'learnenglish-322106-cc3db3c569e4.json'\r\n",
    "creds = ServiceAccountCredentials.from_json_keyfile_name(file_name,scope)\r\n",
    "client = gspread.authorize(creds)"
   ],
   "outputs": [],
   "metadata": {}
  },
  {
   "cell_type": "code",
   "execution_count": null,
   "source": [
    "sheet = client.open('learning_log').sheet1\r\n",
    "python_sheet = sheet.get_all_records()\r\n",
    "\r\n",
    "print(python_sheet)"
   ],
   "outputs": [],
   "metadata": {}
  },
  {
   "cell_type": "code",
   "execution_count": 11,
   "source": [
    "row = ['2021-08-05',\r\n",
    " 'fifteenth',\r\n",
    " 'ˌfɪfˈtiːnθ',\r\n",
    " \"{'Noun': ['position 15 in a countable series of things'], 'Adjective': ['coming next after the fourteenth and just before the sixteenth in position']}\",\r\n",
    " 'Correct',\r\n",
    " 'https://dictionary.cambridge.org/dictionary/english/fifteenth']\r\n",
    "sheet.append_row(row, value_input_option='USER_ENTERED')"
   ],
   "outputs": [
    {
     "output_type": "execute_result",
     "data": {
      "text/plain": [
       "{'spreadsheetId': '1khFEJprfBnPG_gBidhq9mYI-ccoCCivaJpKEryDWj7M',\n",
       " 'tableRange': \"'工作表1'!A1:F10\",\n",
       " 'updates': {'spreadsheetId': '1khFEJprfBnPG_gBidhq9mYI-ccoCCivaJpKEryDWj7M',\n",
       "  'updatedRange': \"'工作表1'!A11:F11\",\n",
       "  'updatedRows': 1,\n",
       "  'updatedColumns': 6,\n",
       "  'updatedCells': 6}}"
      ]
     },
     "metadata": {},
     "execution_count": 11
    }
   ],
   "metadata": {}
  },
  {
   "cell_type": "code",
   "execution_count": 36,
   "source": [
    "again = 'y felony'\r\n",
    "\r\n",
    "again = dict(zip(range(len(again.split())), again.split())) \r\n",
    "again2 = 'y'\r\n",
    "\r\n",
    "again2 = dict(zip(range(len(again2.split())), again2.split())) \r\n"
   ],
   "outputs": [],
   "metadata": {}
  },
  {
   "cell_type": "code",
   "execution_count": 46,
   "source": [
    "\r\n",
    "check = again.get(3)\r\n",
    "print (bool(check))"
   ],
   "outputs": [
    {
     "output_type": "stream",
     "name": "stdout",
     "text": [
      "False\n"
     ]
    }
   ],
   "metadata": {}
  },
  {
   "cell_type": "code",
   "execution_count": 7,
   "source": [
    "from PyDictionary import PyDictionary\r\n",
    "d = PyDictionary()\r\n",
    "\r\n",
    "meaning = d.meaning('english')\r\n",
    "assert meaning"
   ],
   "outputs": [],
   "metadata": {}
  }
 ],
 "metadata": {
  "orig_nbformat": 4,
  "language_info": {
   "name": "python",
   "version": "3.9.4",
   "mimetype": "text/x-python",
   "codemirror_mode": {
    "name": "ipython",
    "version": 3
   },
   "pygments_lexer": "ipython3",
   "nbconvert_exporter": "python",
   "file_extension": ".py"
  },
  "kernelspec": {
   "name": "python3",
   "display_name": "Python 3.9.4 64-bit"
  },
  "interpreter": {
   "hash": "86dad64beed1f197764b4956af02e2abd6d1fd2f9b9917411d6f839c491377e5"
  }
 },
 "nbformat": 4,
 "nbformat_minor": 2
}